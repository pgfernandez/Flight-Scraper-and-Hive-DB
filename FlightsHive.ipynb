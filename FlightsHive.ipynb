{
 "cells": [
  {
   "cell_type": "markdown",
   "metadata": {
    "colab_type": "text",
    "id": "OylkGS7AOjLc"
   },
   "source": [
    "# PRACTICA BIG DATA ARCHITECTURE\n",
    "### Pedro García"
   ]
  },
  {
   "cell_type": "markdown",
   "metadata": {
    "colab_type": "text",
    "id": "G5r66bSGPBOA"
   },
   "source": [
    "## SPRINT 1\n",
    "**Utilizar una herramienta de diagramado como Google Draw o DIA para disenar y especificar el flujo de datos y herramientas utilizadas**\n",
    "\n",
    "[DIAGRAMA](https://docs.google.com/drawings/d/1VcmcGEC22HodL4IdbReGsRJNMTiSDGk67jPnswOudNQ/edit?usp=sharing)\n",
    "\n"
   ]
  },
  {
   "cell_type": "markdown",
   "metadata": {
    "colab_type": "text",
    "id": "3ZgpcY-HPGSj"
   },
   "source": [
    "## SPRINT 2\n",
    "**Crear un scraper en Google Collaboratory a partir de un API o de un crawler con scrapy, que descargue los datos a un archivo de formato estructurado**\n",
    "\n",
    "He creado un scraper contra una API que informa sobre posiciones de vuelos cerca de un área. En este caso, cerca de Madrid. El resumen de su funcionalidad es el siguiente:\n",
    "\n",
    "* Se realiza la petición\n",
    "* Devuelve un JSON con la información\n",
    "* Lo convierto a objeto (diccionario) de Python\n",
    "* Creo el csv con los campos que he seleccionado y comprobando que vienen informados porque he visto que no siempre vienen todos los campos informados (ni siquiera aparecen)\n",
    "\n",
    "Este csv lo usaré para la parte de HIVE"
   ]
  },
  {
   "cell_type": "code",
   "execution_count": 1,
   "metadata": {
    "colab": {
     "autoexec": {
      "startup": false,
      "wait_interval": 0
     }
    },
    "colab_type": "code",
    "id": "cJVDM_DEtEDu"
   },
   "outputs": [],
   "source": [
    "import requests\n",
    "import json\n",
    "import csv\n",
    "import uuid"
   ]
  },
  {
   "cell_type": "code",
   "execution_count": 2,
   "metadata": {
    "colab": {
     "autoexec": {
      "startup": false,
      "wait_interval": 0
     }
    },
    "colab_type": "code",
    "id": "bkrNZiSGto8a"
   },
   "outputs": [
    {
     "name": "stdout",
     "output_type": "stream",
     "text": [
      "200\n",
      "b'{\"src\":1,\"feeds\":[{\"id\":1,\"name\":\"From Cons\",\"polarPlot\":false}],\"srcFeed\":1,\"showSil\":true,\"showFlg\":true,\"showPic\":true,\"flgH\":20,\"flgW\":85,\"acList\":[{\"Id\":4221706,\"Rcvr\":1,\"HasSig\":true,\"Sig\":156,\"Icao\":\"406B0A\",\"Bad\":false,\"Reg\":\"G-STBK\",\"FSeen\":\"\\\\/Date(1546362490015)\\\\/\",\"TSecs\":115,\"CMsgs\":47,\"Alt\":8100,\"GAlt\":8593,\"InHg\":30.4133873,\"AltT\":0,\"Call\":\"BAW461\",\"Lat\":40.666638,\"Long\":-3.455762,\"PosTime\":1546362603777,\"Mlat\":false,\"Tisb\":false,\"Spd\":274.9,\"Trak\":39.5,\"TrkH\":false,\"Type\":\"B773\",\"Mdl\":\"Boeing 777 336ER\",\"Man\":\"Boeing\",\"CNum\":\"42121\",\"From\":\"LEMD Madrid Barajas, Spain\",\"To\":\"EGLL London Heathrow, United Kingdom\",\"Op\":\"British Airways\",\"OpIcao\":\"BAW\",\"Sqk\":\"5326\",\"Help\":false,\"Vsi\":3328,\"VsiT\":0,\"Dst\":34.78,\"Brng\":36.9,\"WTC\":3,\"Species\":1,\"Engines\":\"2\",\"EngType\":3,\"EngMount\":0,\"Mil\":false,\"Cou\":\"United Kingdom\",\"HasPic\":false,\"Interested\":false,\"FlightsCount\":0,\"Gnd\":false,\"SpdTyp\":0,\"CallSus\":false,\"Trt\":2,\"Year\":\"2014\"},{\"Id\":5022552,\"Rcvr\":1,\"HasSig\":true,\"Sig\":147,\"Icao\":\"4CA358\",\"Bad\":false,\"Reg\":\"EI-FHH\",\"FSeen\":\"\\\\/Date(1546362273792)\\\\/\",\"TSecs\":331,\"CMsgs\":110,\"Alt\":13425,\"GAlt\":13918,\"InHg\":30.4133873,\"AltT\":0,\"Lat\":40.594343,\"Long\":-3.994904,\"PosTime\":1546362603697,\"Mlat\":false,\"Tisb\":false,\"Spd\":369.3,\"Trak\":241.0,\"TrkH\":false,\"Type\":\"B738\",\"Mdl\":\"Boeing 737NG 8FZ/W\",\"Man\":\"Boeing\",\"CNum\":\"31713\",\"Op\":\"Norwegian Air International\",\"OpIcao\":\"IBK\",\"Sqk\":\"2664\",\"Help\":false,\"Vsi\":2496,\"VsiT\":0,\"Dst\":31.59,\"Brng\":308.8,\"WTC\":2,\"Species\":1,\"Engines\":\"2\",\"EngType\":3,\"EngMount\":0,\"Mil\":false,\"Cou\":\"Ireland\",\"HasPic\":false,\"Interested\":false,\"FlightsCount\":0,\"Gnd\":false,\"SpdTyp\":0,\"CallSus\":false,\"Trt\":2,\"Year\":\"2010\"},{\"Id\":3417114,\"Rcvr\":1,\"HasSig\":true,\"Sig\":44,\"Icao\":\"34241A\",\"Bad\":false,\"Reg\":\"EC-JXJ\",\"FSeen\":\"\\\\/Date(1546362200701)\\\\/\",\"TSecs\":404,\"CMsgs\":149,\"Alt\":21475,\"GAlt\":21998,\"InHg\":30.4429131,\"AltT\":0,\"Call\":\"IBE0557\",\"Lat\":41.215805,\"Long\":-4.199219,\"PosTime\":1546362603697,\"Mlat\":false,\"Tisb\":false,\"Spd\":432.5,\"Trak\":182.7,\"TrkH\":false,\"Type\":\"A319\",\"Mdl\":\"Airbus A319 111\",\"Man\":\"Airbus\",\"CNum\":\"2889\",\"From\":\"LEXJ Santander, Spain\",\"To\":\"LEMD Madrid Barajas, Spain\",\"Op\":\"Iberia\",\"OpIcao\":\"IBE\",\"Sqk\":\"6001\",\"Help\":false,\"Vsi\":-1024,\"VsiT\":0,\"Dst\":98.17,\"Brng\":335.0,\"WTC\":2,\"Species\":1,\"Engines\":\"2\",\"EngType\":3,\"EngMount\":0,\"Mil\":false,\"Cou\":\"Spain\",\"HasPic\":false,\"Interested\":false,\"FlightsCount\":0,\"Gnd\":false,\"SpdTyp\":0,\"CallSus\":false,\"Trt\":2,\"Year\":\"2006\"},{\"Id\":4509123,\"Rcvr\":1,\"HasSig\":true,\"Sig\":79,\"Icao\":\"44CDC3\",\"Bad\":false,\"Reg\":\"OO-SNC\",\"FSeen\":\"\\\\/Date(1546361996192)\\\\/\",\"TSecs\":609,\"CMsgs\":189,\"Alt\":20475,\"GAlt\":20968,\"InHg\":30.4133873,\"AltT\":0,\"Call\":\"BEL3728\",\"Lat\":41.281631,\"Long\":-3.536133,\"PosTime\":1546362603695,\"Mlat\":false,\"Tisb\":false,\"Spd\":399.5,\"Trak\":25.3,\"TrkH\":false,\"Type\":\"A320\",\"Mdl\":\"Airbus A320 214\",\"Man\":\"Airbus\",\"CNum\":\"1797\",\"From\":\"LEMD Madrid Barajas, Spain\",\"To\":\"EBBR Brussels, Belgium\",\"Op\":\"Brussels Airlines\",\"OpIcao\":\"BEL\",\"Sqk\":\"1441\",\"Help\":false,\"Vsi\":1984,\"VsiT\":0,\"Dst\":97.2,\"Brng\":8.3,\"WTC\":2,\"Species\":1,\"Engines\":\"2\",\"EngType\":3,\"EngMount\":0,\"Mil\":false,\"Cou\":\"Belgium\",\"HasPic\":false,\"Interested\":false,\"FlightsCount\":0,\"Gnd\":false,\"SpdTyp\":0,\"CallSus\":false,\"Trt\":2,\"Year\":\"2002\"},{\"Id\":5024330,\"Rcvr\":1,\"HasSig\":true,\"Sig\":94,\"Icao\":\"4CAA4A\",\"Bad\":false,\"Reg\":\"EI-EXI\",\"FSeen\":\"\\\\/Date(1546361183523)\\\\/\",\"TSecs\":1421,\"CMsgs\":534,\"Alt\":33000,\"GAlt\":33000,\"InHg\":30.4133873,\"AltT\":0,\"Call\":\"VOE3528\",\"Lat\":39.9978,\"Long\":-4.3392,\"PosTime\":1546362554076,\"Mlat\":true,\"Tisb\":false,\"Trak\":188.7,\"TrkH\":false,\"Type\":\"B712\",\"Mdl\":\"Boeing 717 2BL\",\"Man\":\"Boeing\",\"CNum\":\"55174\",\"From\":\"LEBB Bilbao, Spain\",\"To\":\"LEZL Sevilla, Spain\",\"Op\":\"Volotea\",\"OpIcao\":\"VOE\",\"Sqk\":\"5115\",\"Help\":false,\"VsiT\":0,\"Dst\":71.32,\"Brng\":229.4,\"WTC\":2,\"Species\":1,\"Engines\":\"2\",\"EngType\":3,\"EngMount\":1,\"Mil\":false,\"Cou\":\"Ireland\",\"HasPic\":false,\"Interested\":false,\"FlightsCount\":0,\"Gnd\":false,\"SpdTyp\":0,\"CallSus\":true,\"Trt\":2,\"Year\":\"2003\"},{\"Id\":3428826,\"Rcvr\":1,\"HasSig\":true,\"Sig\":74,\"Icao\":\"3451DA\",\"Bad\":false,\"Reg\":\"EC-MJQ\",\"FSeen\":\"\\\\/Date(1546360745432)\\\\/\",\"TSecs\":1860,\"CMsgs\":480,\"Alt\":14000,\"GAlt\":14493,\"InHg\":30.4133873,\"AltT\":0,\"TAlt\":4992,\"Call\":\"ANE11PX\",\"Lat\":39.7733,\"Long\":-3.7704,\"PosTime\":1546362602465,\"Mlat\":false,\"Tisb\":false,\"Spd\":371.0,\"Trak\":0.5,\"TrkH\":false,\"TTrk\":16.875,\"Type\":\"CRJX\",\"Mdl\":\"Bombardier CRJ 1000 NG\",\"Man\":\"Bombardier\",\"CNum\":\"19047\",\"Op\":\"Air Nostrum\",\"OpIcao\":\"ANE\",\"Sqk\":\"5166\",\"Help\":false,\"Vsi\":-2752,\"VsiT\":0,\"Dst\":71.77,\"Brng\":184.6,\"WTC\":2,\"Species\":1,\"Engines\":\"2\",\"EngType\":3,\"EngMount\":1,\"Mil\":false,\"Cou\":\"Spain\",\"HasPic\":false,\"Interested\":false,\"FlightsCount\":0,\"Gnd\":false,\"SpdTyp\":0,\"CallSus\":false,\"Trt\":5,\"Year\":\"2016\"},{\"Id\":4499629,\"Rcvr\":1,\"HasSig\":true,\"Sig\":103,\"Icao\":\"44A8AD\",\"Bad\":false,\"Reg\":\"OO-JEM\",\"FSeen\":\"\\\\/Date(1546360623831)\\\\/\",\"TSecs\":1981,\"CMsgs\":539,\"Alt\":38000,\"GAlt\":38493,\"InHg\":30.4133873,\"AltT\":0,\"Call\":\"JAF6CW\",\"Lat\":39.98822,\"Long\":-3.422424,\"PosTime\":1546362603644,\"Mlat\":false,\"Tisb\":false,\"Spd\":441.0,\"Trak\":8.6,\"TrkH\":false,\"Type\":\"E190\",\"Mdl\":\"Embraer EMB-190 STD\",\"Man\":\"Embraer\",\"CNum\":\"19000603\",\"Op\":\"TUI Airlines Belgium\",\"OpIcao\":\"JAF\",\"Sqk\":\"4667\",\"Help\":false,\"Vsi\":-64,\"VsiT\":1,\"Dst\":53.28,\"Brng\":153.3,\"WTC\":2,\"Species\":1,\"Engines\":\"2\",\"EngType\":3,\"EngMount\":0,\"Mil\":false,\"Cou\":\"Belgium\",\"HasPic\":false,\"Interested\":false,\"FlightsCount\":0,\"Gnd\":false,\"SpdTyp\":0,\"CallSus\":false,\"Trt\":4,\"Year\":\"2013\"},{\"Id\":4224099,\"Rcvr\":1,\"HasSig\":true,\"Sig\":174,\"Icao\":\"407463\",\"Bad\":false,\"Reg\":\"G-TTNB\",\"FSeen\":\"\\\\/Date(1546359881500)\\\\/\",\"TSecs\":2724,\"CMsgs\":996,\"Alt\":38000,\"GAlt\":38012,\"InHg\":29.93171,\"AltT\":0,\"TAlt\":32992,\"Call\":\"BAW491U\",\"Lat\":40.976676,\"Long\":-3.219181,\"PosTime\":1546362601367,\"Mlat\":false,\"Tisb\":false,\"Spd\":452.4,\"Trak\":9.7,\"TrkH\":false,\"TTrk\":0.0,\"Type\":\"A20N\",\"Mdl\":\"Airbus A320 251NSL\",\"Man\":\"Airbus\",\"CNum\":\"8139\",\"From\":\"LXGB Gibraltar, Gibraltar\",\"To\":\"EGLL London Heathrow, United Kingdom\",\"Op\":\"British Airways\",\"OpIcao\":\"BAW\",\"Sqk\":\"4651\",\"Help\":false,\"Vsi\":0,\"VsiT\":1,\"Dst\":74.45,\"Brng\":33.1,\"WTC\":2,\"Species\":1,\"Engines\":\"2\",\"EngType\":3,\"EngMount\":0,\"Mil\":false,\"Cou\":\"United Kingdom\",\"HasPic\":false,\"Interested\":false,\"FlightsCount\":0,\"SpdTyp\":0,\"CallSus\":false,\"Trt\":5,\"Year\":\"2018\"},{\"Id\":131247,\"Rcvr\":1,\"HasSig\":true,\"Sig\":157,\"Icao\":\"0200AF\",\"Bad\":false,\"Reg\":\"CN-ROZ\",\"FSeen\":\"\\\\/Date(1546357705965)\\\\/\",\"TSecs\":4899,\"CMsgs\":1604,\"Alt\":34975,\"GAlt\":35468,\"InHg\":30.4133873,\"AltT\":0,\"Call\":\"RAM765Y\",\"Lat\":40.362466,\"Long\":-2.768929,\"PosTime\":1546362601346,\"Mlat\":false,\"Tisb\":false,\"Spd\":439.3,\"Trak\":191.8,\"TrkH\":false,\"Type\":\"B738\",\"Mdl\":\"Boeing 737NG 8B6/W\",\"Man\":\"Boeing\",\"CNum\":\"33071\",\"From\":\"LFPO Paris-Orly, Paris, France\",\"To\":\"GMMN Mohammed V, Casablanca, Morocco\",\"Op\":\"Royal Air Maroc\",\"OpIcao\":\"RAM\",\"Sqk\":\"4024\",\"Help\":false,\"Vsi\":-64,\"VsiT\":0,\"Dst\":79.36,\"Brng\":94.1,\"WTC\":2,\"Species\":1,\"Engines\":\"2\",\"EngType\":3,\"EngMount\":0,\"Mil\":false,\"Cou\":\"Morocco\",\"HasPic\":false,\"Interested\":false,\"FlightsCount\":0,\"Gnd\":false,\"SpdTyp\":0,\"CallSus\":false,\"Trt\":2,\"Year\":\"2010\"},{\"Id\":4196807,\"Rcvr\":1,\"HasSig\":true,\"Sig\":28,\"Icao\":\"4009C7\",\"Bad\":false,\"Reg\":\"G-EUUJ\",\"FSeen\":\"\\\\/Date(1546356648088)\\\\/\",\"TSecs\":5957,\"CMsgs\":1522,\"Alt\":37000,\"GAlt\":37493,\"InHg\":30.4133873,\"AltT\":0,\"Call\":\"BAW454\",\"Lat\":40.790771,\"Long\":-4.355957,\"PosTime\":1546362603640,\"Mlat\":false,\"Tisb\":false,\"Spd\":435.6,\"Trak\":184.9,\"TrkH\":false,\"Type\":\"A320\",\"Mdl\":\"Airbus A320 232\",\"Man\":\"Airbus\",\"CNum\":\"1883\",\"From\":\"EGLL London Heathrow, United Kingdom\",\"To\":\"LEMG M\\xc3\\xa1laga, Spain\",\"Op\":\"British Airways\",\"OpIcao\":\"BAW\",\"Sqk\":\"2246\",\"Help\":false,\"Vsi\":0,\"VsiT\":0,\"Dst\":69.04,\"Brng\":307.3,\"WTC\":2,\"Species\":1,\"Engines\":\"2\",\"EngType\":3,\"EngMount\":0,\"Mil\":false,\"Cou\":\"United Kingdom\",\"HasPic\":false,\"Interested\":false,\"FlightsCount\":0,\"Gnd\":false,\"SpdTyp\":0,\"CallSus\":false,\"Trt\":2,\"Year\":\"2002\"},{\"Id\":5023300,\"Rcvr\":1,\"HasSig\":true,\"Sig\":56,\"Icao\":\"4CA644\",\"Bad\":false,\"Reg\":\"EI-DYB\",\"FSeen\":\"\\\\/Date(1546356347022)\\\\/\",\"TSecs\":6258,\"CMsgs\":1633,\"Alt\":19900,\"GAlt\":20393,\"InHg\":30.4133873,\"AltT\":0,\"Call\":\"RYR2R\",\"Lat\":40.880127,\"Long\":-4.222932,\"PosTime\":1546362603639,\"Mlat\":false,\"Tisb\":false,\"Spd\":329.5,\"Trak\":182.9,\"TrkH\":false,\"Type\":\"B738\",\"Mdl\":\"Boeing 737NG 8AS/W\",\"Man\":\"Boeing\",\"CNum\":\"33633\",\"From\":\"EGSS London Stansted, United Kingdom\",\"To\":\"LEMD Madrid Barajas, Spain\",\"Op\":\"Ryanair\",\"OpIcao\":\"RYR\",\"Sqk\":\"5421\",\"Help\":false,\"Vsi\":-1024,\"VsiT\":0,\"Dst\":67.66,\"Brng\":319.8,\"WTC\":2,\"Species\":1,\"Engines\":\"2\",\"EngType\":3,\"EngMount\":0,\"Mil\":false,\"Cou\":\"Ireland\",\"HasPic\":false,\"Interested\":false,\"FlightsCount\":0,\"Gnd\":false,\"SpdTyp\":0,\"CallSus\":false,\"Trt\":2,\"Year\":\"2008\"},{\"Id\":5024018,\"Rcvr\":1,\"HasSig\":true,\"Sig\":187,\"Icao\":\"4CA912\",\"Bad\":false,\"Reg\":\"EI-EPD\",\"FSeen\":\"\\\\/Date(1546356040786)\\\\/\",\"TSecs\":6564,\"CMsgs\":1687,\"Alt\":37000,\"GAlt\":37523,\"InHg\":30.4429131,\"AltT\":0,\"Call\":\"RYR97NK\",\"Lat\":40.258468,\"Long\":-4.306204,\"PosTime\":1546362602477,\"Mlat\":false,\"Tisb\":false,\"Spd\":425.5,\"Trak\":184.9,\"TrkH\":false,\"Type\":\"B738\",\"Mdl\":\"Boeing 737NG 8AS/W\",\"Man\":\"Boeing\",\"CNum\":\"40310\",\"Op\":\"Ryanair\",\"OpIcao\":\"RYR\",\"Sqk\":\"2025\",\"Help\":false,\"Vsi\":0,\"VsiT\":0,\"Dst\":54.05,\"Brng\":251.2,\"WTC\":2,\"Species\":1,\"Engines\":\"2\",\"EngType\":3,\"EngMount\":0,\"Mil\":false,\"Cou\":\"Ireland\",\"HasPic\":false,\"Interested\":false,\"FlightsCount\":0,\"Gnd\":false,\"SpdTyp\":0,\"CallSus\":false,\"Trt\":2,\"Year\":\"2011\"},{\"Id\":3954422,\"Rcvr\":1,\"HasSig\":true,\"Sig\":179,\"Icao\":\"3C56F6\",\"Bad\":false,\"Reg\":\"D-AEWV\",\"FSeen\":\"\\\\/Date(1546355214793)\\\\/\",\"TSecs\":7390,\"CMsgs\":1534,\"Alt\":36025,\"GAlt\":36518,\"InHg\":30.4133873,\"AltT\":0,\"TAlt\":36000,\"Call\":\"EWG9545\",\"Lat\":41.064377,\"Long\":-3.675171,\"PosTime\":1546362601349,\"Mlat\":false,\"Tisb\":false,\"Spd\":461.3,\"Trak\":31.3,\"TrkH\":false,\"TTrk\":70.3125,\"Type\":\"A320\",\"Mdl\":\"Airbus A320 214SL\",\"Man\":\"Airbus\",\"CNum\":\"7545\",\"From\":\"GCLA La Palma, Sta Cruz de la Palma, La Palma Island, Spain\",\"To\":\"EDDL D\\xc3\\xbcsseldorf, Germany\",\"Op\":\"Eurowings\",\"OpIcao\":\"EWG\",\"Sqk\":\"6214\",\"Help\":false,\"Vsi\":64,\"VsiT\":0,\"Dst\":72.06,\"Brng\":1.9,\"WTC\":2,\"Species\":1,\"Engines\":\"2\",\"EngType\":3,\"EngMount\":0,\"Mil\":false,\"Cou\":\"Germany\",\"HasPic\":false,\"Interested\":false,\"FlightsCount\":0,\"Gnd\":false,\"SpdTyp\":0,\"CallSus\":false,\"Trt\":5,\"Year\":\"2016\"},{\"Id\":3424919,\"Rcvr\":1,\"HasSig\":false,\"Icao\":\"344297\",\"Bad\":false,\"Reg\":\"EC-LQX\",\"FSeen\":\"\\\\/Date(1546354865018)\\\\/\",\"TSecs\":7740,\"CMsgs\":1683,\"Alt\":2875,\"GAlt\":3368,\"InHg\":30.4133873,\"AltT\":0,\"Call\":\"AEA97ZG\",\"Lat\":40.408859,\"Long\":-3.498962,\"PosTime\":1546362522290,\"Mlat\":false,\"Tisb\":false,\"Spd\":170.0,\"Trak\":322.8,\"TrkH\":false,\"Type\":\"B738\",\"Mdl\":\"Boeing 737NG 85P/W\",\"Man\":\"Boeing\",\"CNum\":\"36589\",\"Op\":\"Air Europa\",\"OpIcao\":\"AEA\",\"Sqk\":\"6267\",\"Help\":false,\"Vsi\":-960,\"VsiT\":0,\"Dst\":17.32,\"Brng\":92.8,\"WTC\":2,\"Species\":1,\"Engines\":\"2\",\"EngType\":3,\"EngMount\":0,\"Mil\":false,\"Cou\":\"Spain\",\"HasPic\":false,\"Interested\":false,\"FlightsCount\":0,\"Gnd\":false,\"SpdTyp\":0,\"CallSus\":false,\"Trt\":2,\"Year\":\"2012\"},{\"Id\":3420355,\"Rcvr\":1,\"HasSig\":true,\"Sig\":80,\"Icao\":\"3430C3\",\"Bad\":false,\"Reg\":\"EC-KMD\",\"FSeen\":\"\\\\/Date(1546354567542)\\\\/\",\"TSecs\":8037,\"CMsgs\":1396,\"Alt\":16325,\"GAlt\":16818,\"InHg\":30.4133873,\"AltT\":0,\"Call\":\"IBE0405\",\"Lat\":39.60278,\"Long\":-4.146545,\"PosTime\":1546362602465,\"Mlat\":false,\"Tisb\":false,\"Spd\":384.4,\"Trak\":37.5,\"TrkH\":false,\"Type\":\"A319\",\"Mdl\":\"Airbus A319 111\",\"Man\":\"Airbus\",\"CNum\":\"3380\",\"From\":\"LEJR Jerez, Jerez de la Forntera, Spain\",\"To\":\"LEMD Madrid Barajas, Spain\",\"Op\":\"Iberia\",\"OpIcao\":\"IBE\",\"Sqk\":\"0772\",\"Help\":false,\"Vsi\":-2240,\"VsiT\":0,\"Dst\":98.06,\"Brng\":202.8,\"WTC\":2,\"Species\":1,\"Engines\":\"2\",\"EngType\":3,\"EngMount\":0,\"Mil\":false,\"Cou\":\"Spain\",\"HasPic\":false,\"Interested\":false,\"FlightsCount\":0,\"Gnd\":false,\"SpdTyp\":0,\"CallSus\":false,\"Trt\":2,\"Year\":\"2007\"},{\"Id\":3412813,\"Rcvr\":1,\"HasSig\":false,\"Icao\":\"34134D\",\"Bad\":false,\"Reg\":\"EC-HUH\",\"FSeen\":\"\\\\/Date(1546353390207)\\\\/\",\"TSecs\":9215,\"CMsgs\":2697,\"Alt\":3000,\"GAlt\":3493,\"InHg\":30.4133873,\"AltT\":0,\"Call\":\"IBE31ZZ\",\"Lat\":40.410831,\"Long\":-3.47255,\"PosTime\":1546362598191,\"Mlat\":false,\"Tisb\":false,\"Spd\":166.0,\"Trak\":323.0,\"TrkH\":false,\"Type\":\"A321\",\"Mdl\":\"Airbus A321 212\",\"Man\":\"Airbus\",\"CNum\":\"1021\",\"From\":\"LEMD Madrid Barajas, Spain\",\"To\":\"EGLL London Heathrow, United Kingdom\",\"Op\":\"Iberia\",\"OpIcao\":\"IBE\",\"Sqk\":\"6624\",\"Help\":false,\"Vsi\":-1024,\"VsiT\":0,\"Dst\":19.54,\"Brng\":91.8,\"WTC\":2,\"Species\":1,\"Engines\":\"2\",\"EngType\":3,\"EngMount\":0,\"Mil\":false,\"Cou\":\"Spain\",\"HasPic\":false,\"Interested\":false,\"FlightsCount\":0,\"Gnd\":false,\"SpdTyp\":0,\"CallSus\":false,\"Trt\":2,\"Year\":\"1999\"},{\"Id\":3430034,\"Rcvr\":1,\"HasSig\":true,\"Sig\":185,\"Icao\":\"345692\",\"Bad\":false,\"Reg\":\"EC-MXY\",\"FSeen\":\"\\\\/Date(1546352184198)\\\\/\",\"TSecs\":10421,\"CMsgs\":2659,\"Alt\":7525,\"GAlt\":8033,\"InHg\":30.4278164,\"AltT\":0,\"TAlt\":6016,\"Call\":\"IBE31KG\",\"Lat\":40.265451,\"Long\":-3.071116,\"PosTime\":1546362601367,\"Mlat\":false,\"Tisb\":false,\"Spd\":271.3,\"Trak\":288.7,\"TrkH\":false,\"TTrk\":289.6875,\"Type\":\"A20N\",\"Mdl\":\"Airbus A320 251NSL\",\"Man\":\"Airbus\",\"CNum\":\"8256\",\"From\":\"EDDL D\\xc3\\xbcsseldorf, Germany\",\"To\":\"LEMD Madrid Barajas, Spain\",\"Op\":\"Iberia\",\"OpIcao\":\"IBE\",\"Sqk\":\"4023\",\"Help\":false,\"Vsi\":-896,\"VsiT\":1,\"Dst\":56.15,\"Brng\":107.2,\"WTC\":2,\"Species\":1,\"Engines\":\"2\",\"EngType\":3,\"EngMount\":0,\"Mil\":false,\"Cou\":\"Spain\",\"HasPic\":false,\"Interested\":false,\"FlightsCount\":0,\"Gnd\":false,\"SpdTyp\":0,\"CallSus\":false,\"Trt\":5,\"Year\":\"2018\"}],\"totalAc\":6818,\"lastDv\":\"636817984096222590\",\"shtTrlSec\":65,\"stm\":1546362603812}'\n"
     ]
    }
   ],
   "source": [
    "#cojo hasta un máximo de 100 vuelos que estén informados por Navegación Aérea en la zona de Madrid\n",
    "#El API es este https://www.adsbexchange.com/data/\n",
    "response = requests.get(\"https://public-api.adsbexchange.com/VirtualRadar/AircraftList.json?lat=40.4167&lng=-3.70325&fDstL=0&fDstU=100\")\n",
    "print (response.status_code)\n",
    "print (response.content)"
   ]
  },
  {
   "cell_type": "code",
   "execution_count": 3,
   "metadata": {
    "colab": {
     "autoexec": {
      "startup": false,
      "wait_interval": 0
     }
    },
    "colab_type": "code",
    "id": "7vgpniCqto5x"
   },
   "outputs": [],
   "source": [
    "#lo convierto a objeto python\n",
    "flights = response.json()"
   ]
  },
  {
   "cell_type": "code",
   "execution_count": 4,
   "metadata": {
    "colab": {
     "autoexec": {
      "startup": false,
      "wait_interval": 0
     }
    },
    "colab_type": "code",
    "id": "-WVmlGNat5_Z"
   },
   "outputs": [
    {
     "name": "stdout",
     "output_type": "stream",
     "text": [
      "{'src': 1, 'feeds': [{'id': 1, 'name': 'From Cons', 'polarPlot': False}], 'srcFeed': 1, 'showSil': True, 'showFlg': True, 'showPic': True, 'flgH': 20, 'flgW': 85, 'acList': [{'Id': 4221706, 'Rcvr': 1, 'HasSig': True, 'Sig': 156, 'Icao': '406B0A', 'Bad': False, 'Reg': 'G-STBK', 'FSeen': '/Date(1546362490015)/', 'TSecs': 115, 'CMsgs': 47, 'Alt': 8100, 'GAlt': 8593, 'InHg': 30.4133873, 'AltT': 0, 'Call': 'BAW461', 'Lat': 40.666638, 'Long': -3.455762, 'PosTime': 1546362603777, 'Mlat': False, 'Tisb': False, 'Spd': 274.9, 'Trak': 39.5, 'TrkH': False, 'Type': 'B773', 'Mdl': 'Boeing 777 336ER', 'Man': 'Boeing', 'CNum': '42121', 'From': 'LEMD Madrid Barajas, Spain', 'To': 'EGLL London Heathrow, United Kingdom', 'Op': 'British Airways', 'OpIcao': 'BAW', 'Sqk': '5326', 'Help': False, 'Vsi': 3328, 'VsiT': 0, 'Dst': 34.78, 'Brng': 36.9, 'WTC': 3, 'Species': 1, 'Engines': '2', 'EngType': 3, 'EngMount': 0, 'Mil': False, 'Cou': 'United Kingdom', 'HasPic': False, 'Interested': False, 'FlightsCount': 0, 'Gnd': False, 'SpdTyp': 0, 'CallSus': False, 'Trt': 2, 'Year': '2014'}, {'Id': 5022552, 'Rcvr': 1, 'HasSig': True, 'Sig': 147, 'Icao': '4CA358', 'Bad': False, 'Reg': 'EI-FHH', 'FSeen': '/Date(1546362273792)/', 'TSecs': 331, 'CMsgs': 110, 'Alt': 13425, 'GAlt': 13918, 'InHg': 30.4133873, 'AltT': 0, 'Lat': 40.594343, 'Long': -3.994904, 'PosTime': 1546362603697, 'Mlat': False, 'Tisb': False, 'Spd': 369.3, 'Trak': 241.0, 'TrkH': False, 'Type': 'B738', 'Mdl': 'Boeing 737NG 8FZ/W', 'Man': 'Boeing', 'CNum': '31713', 'Op': 'Norwegian Air International', 'OpIcao': 'IBK', 'Sqk': '2664', 'Help': False, 'Vsi': 2496, 'VsiT': 0, 'Dst': 31.59, 'Brng': 308.8, 'WTC': 2, 'Species': 1, 'Engines': '2', 'EngType': 3, 'EngMount': 0, 'Mil': False, 'Cou': 'Ireland', 'HasPic': False, 'Interested': False, 'FlightsCount': 0, 'Gnd': False, 'SpdTyp': 0, 'CallSus': False, 'Trt': 2, 'Year': '2010'}, {'Id': 3417114, 'Rcvr': 1, 'HasSig': True, 'Sig': 44, 'Icao': '34241A', 'Bad': False, 'Reg': 'EC-JXJ', 'FSeen': '/Date(1546362200701)/', 'TSecs': 404, 'CMsgs': 149, 'Alt': 21475, 'GAlt': 21998, 'InHg': 30.4429131, 'AltT': 0, 'Call': 'IBE0557', 'Lat': 41.215805, 'Long': -4.199219, 'PosTime': 1546362603697, 'Mlat': False, 'Tisb': False, 'Spd': 432.5, 'Trak': 182.7, 'TrkH': False, 'Type': 'A319', 'Mdl': 'Airbus A319 111', 'Man': 'Airbus', 'CNum': '2889', 'From': 'LEXJ Santander, Spain', 'To': 'LEMD Madrid Barajas, Spain', 'Op': 'Iberia', 'OpIcao': 'IBE', 'Sqk': '6001', 'Help': False, 'Vsi': -1024, 'VsiT': 0, 'Dst': 98.17, 'Brng': 335.0, 'WTC': 2, 'Species': 1, 'Engines': '2', 'EngType': 3, 'EngMount': 0, 'Mil': False, 'Cou': 'Spain', 'HasPic': False, 'Interested': False, 'FlightsCount': 0, 'Gnd': False, 'SpdTyp': 0, 'CallSus': False, 'Trt': 2, 'Year': '2006'}, {'Id': 4509123, 'Rcvr': 1, 'HasSig': True, 'Sig': 79, 'Icao': '44CDC3', 'Bad': False, 'Reg': 'OO-SNC', 'FSeen': '/Date(1546361996192)/', 'TSecs': 609, 'CMsgs': 189, 'Alt': 20475, 'GAlt': 20968, 'InHg': 30.4133873, 'AltT': 0, 'Call': 'BEL3728', 'Lat': 41.281631, 'Long': -3.536133, 'PosTime': 1546362603695, 'Mlat': False, 'Tisb': False, 'Spd': 399.5, 'Trak': 25.3, 'TrkH': False, 'Type': 'A320', 'Mdl': 'Airbus A320 214', 'Man': 'Airbus', 'CNum': '1797', 'From': 'LEMD Madrid Barajas, Spain', 'To': 'EBBR Brussels, Belgium', 'Op': 'Brussels Airlines', 'OpIcao': 'BEL', 'Sqk': '1441', 'Help': False, 'Vsi': 1984, 'VsiT': 0, 'Dst': 97.2, 'Brng': 8.3, 'WTC': 2, 'Species': 1, 'Engines': '2', 'EngType': 3, 'EngMount': 0, 'Mil': False, 'Cou': 'Belgium', 'HasPic': False, 'Interested': False, 'FlightsCount': 0, 'Gnd': False, 'SpdTyp': 0, 'CallSus': False, 'Trt': 2, 'Year': '2002'}, {'Id': 5024330, 'Rcvr': 1, 'HasSig': True, 'Sig': 94, 'Icao': '4CAA4A', 'Bad': False, 'Reg': 'EI-EXI', 'FSeen': '/Date(1546361183523)/', 'TSecs': 1421, 'CMsgs': 534, 'Alt': 33000, 'GAlt': 33000, 'InHg': 30.4133873, 'AltT': 0, 'Call': 'VOE3528', 'Lat': 39.9978, 'Long': -4.3392, 'PosTime': 1546362554076, 'Mlat': True, 'Tisb': False, 'Trak': 188.7, 'TrkH': False, 'Type': 'B712', 'Mdl': 'Boeing 717 2BL', 'Man': 'Boeing', 'CNum': '55174', 'From': 'LEBB Bilbao, Spain', 'To': 'LEZL Sevilla, Spain', 'Op': 'Volotea', 'OpIcao': 'VOE', 'Sqk': '5115', 'Help': False, 'VsiT': 0, 'Dst': 71.32, 'Brng': 229.4, 'WTC': 2, 'Species': 1, 'Engines': '2', 'EngType': 3, 'EngMount': 1, 'Mil': False, 'Cou': 'Ireland', 'HasPic': False, 'Interested': False, 'FlightsCount': 0, 'Gnd': False, 'SpdTyp': 0, 'CallSus': True, 'Trt': 2, 'Year': '2003'}, {'Id': 3428826, 'Rcvr': 1, 'HasSig': True, 'Sig': 74, 'Icao': '3451DA', 'Bad': False, 'Reg': 'EC-MJQ', 'FSeen': '/Date(1546360745432)/', 'TSecs': 1860, 'CMsgs': 480, 'Alt': 14000, 'GAlt': 14493, 'InHg': 30.4133873, 'AltT': 0, 'TAlt': 4992, 'Call': 'ANE11PX', 'Lat': 39.7733, 'Long': -3.7704, 'PosTime': 1546362602465, 'Mlat': False, 'Tisb': False, 'Spd': 371.0, 'Trak': 0.5, 'TrkH': False, 'TTrk': 16.875, 'Type': 'CRJX', 'Mdl': 'Bombardier CRJ 1000 NG', 'Man': 'Bombardier', 'CNum': '19047', 'Op': 'Air Nostrum', 'OpIcao': 'ANE', 'Sqk': '5166', 'Help': False, 'Vsi': -2752, 'VsiT': 0, 'Dst': 71.77, 'Brng': 184.6, 'WTC': 2, 'Species': 1, 'Engines': '2', 'EngType': 3, 'EngMount': 1, 'Mil': False, 'Cou': 'Spain', 'HasPic': False, 'Interested': False, 'FlightsCount': 0, 'Gnd': False, 'SpdTyp': 0, 'CallSus': False, 'Trt': 5, 'Year': '2016'}, {'Id': 4499629, 'Rcvr': 1, 'HasSig': True, 'Sig': 103, 'Icao': '44A8AD', 'Bad': False, 'Reg': 'OO-JEM', 'FSeen': '/Date(1546360623831)/', 'TSecs': 1981, 'CMsgs': 539, 'Alt': 38000, 'GAlt': 38493, 'InHg': 30.4133873, 'AltT': 0, 'Call': 'JAF6CW', 'Lat': 39.98822, 'Long': -3.422424, 'PosTime': 1546362603644, 'Mlat': False, 'Tisb': False, 'Spd': 441.0, 'Trak': 8.6, 'TrkH': False, 'Type': 'E190', 'Mdl': 'Embraer EMB-190 STD', 'Man': 'Embraer', 'CNum': '19000603', 'Op': 'TUI Airlines Belgium', 'OpIcao': 'JAF', 'Sqk': '4667', 'Help': False, 'Vsi': -64, 'VsiT': 1, 'Dst': 53.28, 'Brng': 153.3, 'WTC': 2, 'Species': 1, 'Engines': '2', 'EngType': 3, 'EngMount': 0, 'Mil': False, 'Cou': 'Belgium', 'HasPic': False, 'Interested': False, 'FlightsCount': 0, 'Gnd': False, 'SpdTyp': 0, 'CallSus': False, 'Trt': 4, 'Year': '2013'}, {'Id': 4224099, 'Rcvr': 1, 'HasSig': True, 'Sig': 174, 'Icao': '407463', 'Bad': False, 'Reg': 'G-TTNB', 'FSeen': '/Date(1546359881500)/', 'TSecs': 2724, 'CMsgs': 996, 'Alt': 38000, 'GAlt': 38012, 'InHg': 29.93171, 'AltT': 0, 'TAlt': 32992, 'Call': 'BAW491U', 'Lat': 40.976676, 'Long': -3.219181, 'PosTime': 1546362601367, 'Mlat': False, 'Tisb': False, 'Spd': 452.4, 'Trak': 9.7, 'TrkH': False, 'TTrk': 0.0, 'Type': 'A20N', 'Mdl': 'Airbus A320 251NSL', 'Man': 'Airbus', 'CNum': '8139', 'From': 'LXGB Gibraltar, Gibraltar', 'To': 'EGLL London Heathrow, United Kingdom', 'Op': 'British Airways', 'OpIcao': 'BAW', 'Sqk': '4651', 'Help': False, 'Vsi': 0, 'VsiT': 1, 'Dst': 74.45, 'Brng': 33.1, 'WTC': 2, 'Species': 1, 'Engines': '2', 'EngType': 3, 'EngMount': 0, 'Mil': False, 'Cou': 'United Kingdom', 'HasPic': False, 'Interested': False, 'FlightsCount': 0, 'SpdTyp': 0, 'CallSus': False, 'Trt': 5, 'Year': '2018'}, {'Id': 131247, 'Rcvr': 1, 'HasSig': True, 'Sig': 157, 'Icao': '0200AF', 'Bad': False, 'Reg': 'CN-ROZ', 'FSeen': '/Date(1546357705965)/', 'TSecs': 4899, 'CMsgs': 1604, 'Alt': 34975, 'GAlt': 35468, 'InHg': 30.4133873, 'AltT': 0, 'Call': 'RAM765Y', 'Lat': 40.362466, 'Long': -2.768929, 'PosTime': 1546362601346, 'Mlat': False, 'Tisb': False, 'Spd': 439.3, 'Trak': 191.8, 'TrkH': False, 'Type': 'B738', 'Mdl': 'Boeing 737NG 8B6/W', 'Man': 'Boeing', 'CNum': '33071', 'From': 'LFPO Paris-Orly, Paris, France', 'To': 'GMMN Mohammed V, Casablanca, Morocco', 'Op': 'Royal Air Maroc', 'OpIcao': 'RAM', 'Sqk': '4024', 'Help': False, 'Vsi': -64, 'VsiT': 0, 'Dst': 79.36, 'Brng': 94.1, 'WTC': 2, 'Species': 1, 'Engines': '2', 'EngType': 3, 'EngMount': 0, 'Mil': False, 'Cou': 'Morocco', 'HasPic': False, 'Interested': False, 'FlightsCount': 0, 'Gnd': False, 'SpdTyp': 0, 'CallSus': False, 'Trt': 2, 'Year': '2010'}, {'Id': 4196807, 'Rcvr': 1, 'HasSig': True, 'Sig': 28, 'Icao': '4009C7', 'Bad': False, 'Reg': 'G-EUUJ', 'FSeen': '/Date(1546356648088)/', 'TSecs': 5957, 'CMsgs': 1522, 'Alt': 37000, 'GAlt': 37493, 'InHg': 30.4133873, 'AltT': 0, 'Call': 'BAW454', 'Lat': 40.790771, 'Long': -4.355957, 'PosTime': 1546362603640, 'Mlat': False, 'Tisb': False, 'Spd': 435.6, 'Trak': 184.9, 'TrkH': False, 'Type': 'A320', 'Mdl': 'Airbus A320 232', 'Man': 'Airbus', 'CNum': '1883', 'From': 'EGLL London Heathrow, United Kingdom', 'To': 'LEMG Málaga, Spain', 'Op': 'British Airways', 'OpIcao': 'BAW', 'Sqk': '2246', 'Help': False, 'Vsi': 0, 'VsiT': 0, 'Dst': 69.04, 'Brng': 307.3, 'WTC': 2, 'Species': 1, 'Engines': '2', 'EngType': 3, 'EngMount': 0, 'Mil': False, 'Cou': 'United Kingdom', 'HasPic': False, 'Interested': False, 'FlightsCount': 0, 'Gnd': False, 'SpdTyp': 0, 'CallSus': False, 'Trt': 2, 'Year': '2002'}, {'Id': 5023300, 'Rcvr': 1, 'HasSig': True, 'Sig': 56, 'Icao': '4CA644', 'Bad': False, 'Reg': 'EI-DYB', 'FSeen': '/Date(1546356347022)/', 'TSecs': 6258, 'CMsgs': 1633, 'Alt': 19900, 'GAlt': 20393, 'InHg': 30.4133873, 'AltT': 0, 'Call': 'RYR2R', 'Lat': 40.880127, 'Long': -4.222932, 'PosTime': 1546362603639, 'Mlat': False, 'Tisb': False, 'Spd': 329.5, 'Trak': 182.9, 'TrkH': False, 'Type': 'B738', 'Mdl': 'Boeing 737NG 8AS/W', 'Man': 'Boeing', 'CNum': '33633', 'From': 'EGSS London Stansted, United Kingdom', 'To': 'LEMD Madrid Barajas, Spain', 'Op': 'Ryanair', 'OpIcao': 'RYR', 'Sqk': '5421', 'Help': False, 'Vsi': -1024, 'VsiT': 0, 'Dst': 67.66, 'Brng': 319.8, 'WTC': 2, 'Species': 1, 'Engines': '2', 'EngType': 3, 'EngMount': 0, 'Mil': False, 'Cou': 'Ireland', 'HasPic': False, 'Interested': False, 'FlightsCount': 0, 'Gnd': False, 'SpdTyp': 0, 'CallSus': False, 'Trt': 2, 'Year': '2008'}, {'Id': 5024018, 'Rcvr': 1, 'HasSig': True, 'Sig': 187, 'Icao': '4CA912', 'Bad': False, 'Reg': 'EI-EPD', 'FSeen': '/Date(1546356040786)/', 'TSecs': 6564, 'CMsgs': 1687, 'Alt': 37000, 'GAlt': 37523, 'InHg': 30.4429131, 'AltT': 0, 'Call': 'RYR97NK', 'Lat': 40.258468, 'Long': -4.306204, 'PosTime': 1546362602477, 'Mlat': False, 'Tisb': False, 'Spd': 425.5, 'Trak': 184.9, 'TrkH': False, 'Type': 'B738', 'Mdl': 'Boeing 737NG 8AS/W', 'Man': 'Boeing', 'CNum': '40310', 'Op': 'Ryanair', 'OpIcao': 'RYR', 'Sqk': '2025', 'Help': False, 'Vsi': 0, 'VsiT': 0, 'Dst': 54.05, 'Brng': 251.2, 'WTC': 2, 'Species': 1, 'Engines': '2', 'EngType': 3, 'EngMount': 0, 'Mil': False, 'Cou': 'Ireland', 'HasPic': False, 'Interested': False, 'FlightsCount': 0, 'Gnd': False, 'SpdTyp': 0, 'CallSus': False, 'Trt': 2, 'Year': '2011'}, {'Id': 3954422, 'Rcvr': 1, 'HasSig': True, 'Sig': 179, 'Icao': '3C56F6', 'Bad': False, 'Reg': 'D-AEWV', 'FSeen': '/Date(1546355214793)/', 'TSecs': 7390, 'CMsgs': 1534, 'Alt': 36025, 'GAlt': 36518, 'InHg': 30.4133873, 'AltT': 0, 'TAlt': 36000, 'Call': 'EWG9545', 'Lat': 41.064377, 'Long': -3.675171, 'PosTime': 1546362601349, 'Mlat': False, 'Tisb': False, 'Spd': 461.3, 'Trak': 31.3, 'TrkH': False, 'TTrk': 70.3125, 'Type': 'A320', 'Mdl': 'Airbus A320 214SL', 'Man': 'Airbus', 'CNum': '7545', 'From': 'GCLA La Palma, Sta Cruz de la Palma, La Palma Island, Spain', 'To': 'EDDL Düsseldorf, Germany', 'Op': 'Eurowings', 'OpIcao': 'EWG', 'Sqk': '6214', 'Help': False, 'Vsi': 64, 'VsiT': 0, 'Dst': 72.06, 'Brng': 1.9, 'WTC': 2, 'Species': 1, 'Engines': '2', 'EngType': 3, 'EngMount': 0, 'Mil': False, 'Cou': 'Germany', 'HasPic': False, 'Interested': False, 'FlightsCount': 0, 'Gnd': False, 'SpdTyp': 0, 'CallSus': False, 'Trt': 5, 'Year': '2016'}, {'Id': 3424919, 'Rcvr': 1, 'HasSig': False, 'Icao': '344297', 'Bad': False, 'Reg': 'EC-LQX', 'FSeen': '/Date(1546354865018)/', 'TSecs': 7740, 'CMsgs': 1683, 'Alt': 2875, 'GAlt': 3368, 'InHg': 30.4133873, 'AltT': 0, 'Call': 'AEA97ZG', 'Lat': 40.408859, 'Long': -3.498962, 'PosTime': 1546362522290, 'Mlat': False, 'Tisb': False, 'Spd': 170.0, 'Trak': 322.8, 'TrkH': False, 'Type': 'B738', 'Mdl': 'Boeing 737NG 85P/W', 'Man': 'Boeing', 'CNum': '36589', 'Op': 'Air Europa', 'OpIcao': 'AEA', 'Sqk': '6267', 'Help': False, 'Vsi': -960, 'VsiT': 0, 'Dst': 17.32, 'Brng': 92.8, 'WTC': 2, 'Species': 1, 'Engines': '2', 'EngType': 3, 'EngMount': 0, 'Mil': False, 'Cou': 'Spain', 'HasPic': False, 'Interested': False, 'FlightsCount': 0, 'Gnd': False, 'SpdTyp': 0, 'CallSus': False, 'Trt': 2, 'Year': '2012'}, {'Id': 3420355, 'Rcvr': 1, 'HasSig': True, 'Sig': 80, 'Icao': '3430C3', 'Bad': False, 'Reg': 'EC-KMD', 'FSeen': '/Date(1546354567542)/', 'TSecs': 8037, 'CMsgs': 1396, 'Alt': 16325, 'GAlt': 16818, 'InHg': 30.4133873, 'AltT': 0, 'Call': 'IBE0405', 'Lat': 39.60278, 'Long': -4.146545, 'PosTime': 1546362602465, 'Mlat': False, 'Tisb': False, 'Spd': 384.4, 'Trak': 37.5, 'TrkH': False, 'Type': 'A319', 'Mdl': 'Airbus A319 111', 'Man': 'Airbus', 'CNum': '3380', 'From': 'LEJR Jerez, Jerez de la Forntera, Spain', 'To': 'LEMD Madrid Barajas, Spain', 'Op': 'Iberia', 'OpIcao': 'IBE', 'Sqk': '0772', 'Help': False, 'Vsi': -2240, 'VsiT': 0, 'Dst': 98.06, 'Brng': 202.8, 'WTC': 2, 'Species': 1, 'Engines': '2', 'EngType': 3, 'EngMount': 0, 'Mil': False, 'Cou': 'Spain', 'HasPic': False, 'Interested': False, 'FlightsCount': 0, 'Gnd': False, 'SpdTyp': 0, 'CallSus': False, 'Trt': 2, 'Year': '2007'}, {'Id': 3412813, 'Rcvr': 1, 'HasSig': False, 'Icao': '34134D', 'Bad': False, 'Reg': 'EC-HUH', 'FSeen': '/Date(1546353390207)/', 'TSecs': 9215, 'CMsgs': 2697, 'Alt': 3000, 'GAlt': 3493, 'InHg': 30.4133873, 'AltT': 0, 'Call': 'IBE31ZZ', 'Lat': 40.410831, 'Long': -3.47255, 'PosTime': 1546362598191, 'Mlat': False, 'Tisb': False, 'Spd': 166.0, 'Trak': 323.0, 'TrkH': False, 'Type': 'A321', 'Mdl': 'Airbus A321 212', 'Man': 'Airbus', 'CNum': '1021', 'From': 'LEMD Madrid Barajas, Spain', 'To': 'EGLL London Heathrow, United Kingdom', 'Op': 'Iberia', 'OpIcao': 'IBE', 'Sqk': '6624', 'Help': False, 'Vsi': -1024, 'VsiT': 0, 'Dst': 19.54, 'Brng': 91.8, 'WTC': 2, 'Species': 1, 'Engines': '2', 'EngType': 3, 'EngMount': 0, 'Mil': False, 'Cou': 'Spain', 'HasPic': False, 'Interested': False, 'FlightsCount': 0, 'Gnd': False, 'SpdTyp': 0, 'CallSus': False, 'Trt': 2, 'Year': '1999'}, {'Id': 3430034, 'Rcvr': 1, 'HasSig': True, 'Sig': 185, 'Icao': '345692', 'Bad': False, 'Reg': 'EC-MXY', 'FSeen': '/Date(1546352184198)/', 'TSecs': 10421, 'CMsgs': 2659, 'Alt': 7525, 'GAlt': 8033, 'InHg': 30.4278164, 'AltT': 0, 'TAlt': 6016, 'Call': 'IBE31KG', 'Lat': 40.265451, 'Long': -3.071116, 'PosTime': 1546362601367, 'Mlat': False, 'Tisb': False, 'Spd': 271.3, 'Trak': 288.7, 'TrkH': False, 'TTrk': 289.6875, 'Type': 'A20N', 'Mdl': 'Airbus A320 251NSL', 'Man': 'Airbus', 'CNum': '8256', 'From': 'EDDL Düsseldorf, Germany', 'To': 'LEMD Madrid Barajas, Spain', 'Op': 'Iberia', 'OpIcao': 'IBE', 'Sqk': '4023', 'Help': False, 'Vsi': -896, 'VsiT': 1, 'Dst': 56.15, 'Brng': 107.2, 'WTC': 2, 'Species': 1, 'Engines': '2', 'EngType': 3, 'EngMount': 0, 'Mil': False, 'Cou': 'Spain', 'HasPic': False, 'Interested': False, 'FlightsCount': 0, 'Gnd': False, 'SpdTyp': 0, 'CallSus': False, 'Trt': 5, 'Year': '2018'}], 'totalAc': 6818, 'lastDv': '636817984096222590', 'shtTrlSec': 65, 'stm': 1546362603812}\n"
     ]
    }
   ],
   "source": [
    "#compruebo lo que he capturado\n",
    "print (flights)"
   ]
  },
  {
   "cell_type": "code",
   "execution_count": 5,
   "metadata": {
    "colab": {
     "autoexec": {
      "startup": false,
      "wait_interval": 0
     }
    },
    "colab_type": "code",
    "id": "cUE72YP1uIIY"
   },
   "outputs": [
    {
     "name": "stdout",
     "output_type": "stream",
     "text": [
      "dict_keys(['src', 'feeds', 'srcFeed', 'showSil', 'showFlg', 'showPic', 'flgH', 'flgW', 'acList', 'totalAc', 'lastDv', 'shtTrlSec', 'stm'])\n"
     ]
    }
   ],
   "source": [
    "#miro las claves del JSON convertidas a Diccionario para ver dónde buscar\n",
    "print(flights.keys())"
   ]
  },
  {
   "cell_type": "code",
   "execution_count": 6,
   "metadata": {
    "colab": {
     "autoexec": {
      "startup": false,
      "wait_interval": 0
     }
    },
    "colab_type": "code",
    "id": "hEGGKXdEuS_P"
   },
   "outputs": [
    {
     "data": {
      "text/plain": [
       "{'Id': 4221706,\n",
       " 'Rcvr': 1,\n",
       " 'HasSig': True,\n",
       " 'Sig': 156,\n",
       " 'Icao': '406B0A',\n",
       " 'Bad': False,\n",
       " 'Reg': 'G-STBK',\n",
       " 'FSeen': '/Date(1546362490015)/',\n",
       " 'TSecs': 115,\n",
       " 'CMsgs': 47,\n",
       " 'Alt': 8100,\n",
       " 'GAlt': 8593,\n",
       " 'InHg': 30.4133873,\n",
       " 'AltT': 0,\n",
       " 'Call': 'BAW461',\n",
       " 'Lat': 40.666638,\n",
       " 'Long': -3.455762,\n",
       " 'PosTime': 1546362603777,\n",
       " 'Mlat': False,\n",
       " 'Tisb': False,\n",
       " 'Spd': 274.9,\n",
       " 'Trak': 39.5,\n",
       " 'TrkH': False,\n",
       " 'Type': 'B773',\n",
       " 'Mdl': 'Boeing 777 336ER',\n",
       " 'Man': 'Boeing',\n",
       " 'CNum': '42121',\n",
       " 'From': 'LEMD Madrid Barajas, Spain',\n",
       " 'To': 'EGLL London Heathrow, United Kingdom',\n",
       " 'Op': 'British Airways',\n",
       " 'OpIcao': 'BAW',\n",
       " 'Sqk': '5326',\n",
       " 'Help': False,\n",
       " 'Vsi': 3328,\n",
       " 'VsiT': 0,\n",
       " 'Dst': 34.78,\n",
       " 'Brng': 36.9,\n",
       " 'WTC': 3,\n",
       " 'Species': 1,\n",
       " 'Engines': '2',\n",
       " 'EngType': 3,\n",
       " 'EngMount': 0,\n",
       " 'Mil': False,\n",
       " 'Cou': 'United Kingdom',\n",
       " 'HasPic': False,\n",
       " 'Interested': False,\n",
       " 'FlightsCount': 0,\n",
       " 'Gnd': False,\n",
       " 'SpdTyp': 0,\n",
       " 'CallSus': False,\n",
       " 'Trt': 2,\n",
       " 'Year': '2014'}"
      ]
     },
     "execution_count": 6,
     "metadata": {},
     "output_type": "execute_result"
    }
   ],
   "source": [
    "#miro los campos informados en el primer elemento\n",
    "#Los campos vienen explicados en https://www.adsbexchange.com/datafields/\n",
    "flights['acList'][0]"
   ]
  },
  {
   "cell_type": "code",
   "execution_count": 7,
   "metadata": {
    "colab": {
     "autoexec": {
      "startup": false,
      "wait_interval": 0
     }
    },
    "colab_type": "code",
    "id": "s4MC2KhJuqg3"
   },
   "outputs": [],
   "source": [
    "#creo el fichero csv\n",
    "flightFile = open('flightsMAD.csv', 'w')\n",
    "with flightFile:\n",
    "    fileWriter = csv.writer(flightFile)\n",
    "    \n",
    "    #encabezado, realmente para el LOAD DATA de HIVE no usamos el encabezado\n",
    "    #pero lo dejo a modo informativo en la creación del csv por si sirve para otra cosa, para el HIVE no necesito la cabecera\n",
    "    #fileWriter.writerow([\"Callsign\", \"OperatedBy\", \"From\", \"To\", \"Aircraft\", \"Altitude\", \"Latitude\", \"Longitude\", \"PositionTime\",\"Speed\",\"VerticalSpeed\"])\n",
    "    \n",
    "    #array para los registros de las filas\n",
    "    flightData = []\n",
    "    for flight in flights['acList']:\n",
    "\n",
    "        \n",
    "        #la clave es un UUID usando como semilla el callsign + position time\n",
    "        flightData.append(uuid.uuid4())\n",
    "\n",
    "        #no siempre vienen informados los campos, así que siempre los compruebo\n",
    "        #hay algunos que no compruebo porque siempre vienen informados\n",
    "        #y al menos introduzco algo de información para saber si tuve o no datos\n",
    "\n",
    "\n",
    "        if 'Call' in flight.keys():\n",
    "            flightData.append(flight['Call'])\n",
    "        else:\n",
    "            flightData.append('NO_CALL')\n",
    "        if 'Op' in flight.keys():\n",
    "            flightData.append(flight[\"Op\"])\n",
    "        else:    \n",
    "            flightData.append('NO_OP')\n",
    "        if 'From' in flight.keys():\n",
    "            #elimino las comas que hay dentro del campo ya que se confunden con el separador de CSV\n",
    "            flightData.append((flight[\"From\"]).replace(',', ''))\n",
    "        else:    \n",
    "            flightData.append('NO_FROM')\n",
    "        if 'To' in flight.keys():\n",
    "            flightData.append((flight[\"To\"]).replace(',', ''))\n",
    "        else:    \n",
    "            flightData.append('NO_TO')\n",
    "        if 'Mdl' in flight.keys():\n",
    "            flightData.append((flight[\"Mdl\"]).replace(',', ''))\n",
    "        else:\n",
    "            flightData.append('NO_AIRCRAFT')\n",
    "        if 'Alt' in flight.keys():    \n",
    "            flightData.append(flight[\"Alt\"])\n",
    "        else:\n",
    "            flightData.append('NO_ALTITUDE')\n",
    "        if 'Lat' in flight.keys():        \n",
    "            flightData.append(flight[\"Lat\"])\n",
    "        else:\n",
    "            flightData.append('NO_LATITUDE')\n",
    "        if 'Long' in flight.keys():            \n",
    "            flightData.append(flight[\"Long\"])\n",
    "        else:    \n",
    "            flightData.append('NO_LONGITUDE')\n",
    "                               \n",
    "        flightData.append(flight[\"PosTime\"])\n",
    "        \n",
    "        if 'Spd' in flight.keys():                                    \n",
    "            flightData.append(flight[\"Spd\"])\n",
    "        else:\n",
    "            flightData.append('NO_SPEED')\n",
    "        if 'Vsi' in flight.keys():       \n",
    "            flightData.append(flight[\"Vsi\"])\n",
    "        else:    \n",
    "            flightData.append('NO_VSI')\n",
    "\n",
    "        #escribo la fila en el csv    \n",
    "        fileWriter.writerow(flightData)\n",
    "        \n",
    "        #limpio el array para acumular los campos del siguiente vuelo\n",
    "        flightData.clear()\n",
    "        "
   ]
  },
  {
   "cell_type": "code",
   "execution_count": 8,
   "metadata": {
    "colab": {
     "autoexec": {
      "startup": false,
      "wait_interval": 0
     }
    },
    "colab_type": "code",
    "id": "Q3UoS1VAvM_-"
   },
   "outputs": [
    {
     "ename": "ModuleNotFoundError",
     "evalue": "No module named 'google'",
     "output_type": "error",
     "traceback": [
      "\u001b[0;31m---------------------------------------------------------------------------\u001b[0m",
      "\u001b[0;31mModuleNotFoundError\u001b[0m                       Traceback (most recent call last)",
      "\u001b[0;32m<ipython-input-8-1562f737534d>\u001b[0m in \u001b[0;36m<module>\u001b[0;34m()\u001b[0m\n\u001b[1;32m      1\u001b[0m \u001b[0;31m#me bajo el fichero\u001b[0m\u001b[0;34m\u001b[0m\u001b[0;34m\u001b[0m\u001b[0m\n\u001b[1;32m      2\u001b[0m \u001b[0mflightFile\u001b[0m\u001b[0;34m.\u001b[0m\u001b[0mclose\u001b[0m\u001b[0;34m(\u001b[0m\u001b[0;34m)\u001b[0m\u001b[0;34m\u001b[0m\u001b[0m\n\u001b[0;32m----> 3\u001b[0;31m \u001b[0;32mfrom\u001b[0m \u001b[0mgoogle\u001b[0m\u001b[0;34m.\u001b[0m\u001b[0mcolab\u001b[0m \u001b[0;32mimport\u001b[0m \u001b[0mfiles\u001b[0m\u001b[0;34m\u001b[0m\u001b[0m\n\u001b[0m\u001b[1;32m      4\u001b[0m \u001b[0mfiles\u001b[0m\u001b[0;34m.\u001b[0m\u001b[0mdownload\u001b[0m\u001b[0;34m(\u001b[0m\u001b[0;34m'flightsMAD.csv'\u001b[0m\u001b[0;34m)\u001b[0m\u001b[0;34m\u001b[0m\u001b[0m\n",
      "\u001b[0;31mModuleNotFoundError\u001b[0m: No module named 'google'"
     ]
    }
   ],
   "source": [
    "#me bajo el fichero\n",
    "flightFile.close()\n",
    "from google.colab import files\n",
    "files.download('flightsMAD.csv')"
   ]
  },
  {
   "cell_type": "markdown",
   "metadata": {
    "colab_type": "text",
    "id": "3NRIXacOkHVX"
   },
   "source": [
    "## BONUS\n",
    "**Utilizar HIVE para categorizar los datos y hacer un par de queries con el command line para extraer datos a un fichero.**\n"
   ]
  },
  {
   "cell_type": "markdown",
   "metadata": {
    "colab_type": "text",
    "id": "6yVlIYYvkPDe"
   },
   "source": [
    "\n",
    "\n",
    "### 1.De CSV a HIVE\n",
    "\n",
    "* En un primer paso he creado la tabla en HIVE, (debería haber creado antes un DATABASE) \n",
    "\n",
    "\n",
    "```\n",
    "CREATE TABLE IF NOT EXISTS flights (id_flight STRING, \n",
    " callsign VARCHAR(20), \n",
    " operated_by VARCHAR(100), \n",
    " origin VARCHAR(200), \n",
    " destination VARCHAR(200), \n",
    " aircraft VARCHAR(100), \n",
    " altitude INT, \n",
    " latitude DECIMAL(9,6), \n",
    " longitude DECIMAL(9,6), \n",
    " positionTime BIGINT, \n",
    " speed DECIMAL(4,1), \n",
    " vsi INT)\n",
    " ROW FORMAT DELIMITED FIELDS TERMINATED BY ',';\n",
    "```\n",
    "\n",
    "* He creado un CSV con lo capturado por el scrapper del  **SPRINT 2**\n",
    "\n",
    "* Lo he cargado en HIVE con:\n",
    "\n",
    "```\n",
    "LOAD DATA LOCAL INPATH '/opt/flightsMAD.csv' INTO TABLE flights;\n",
    "```\n",
    "\n",
    "* Esta es la captura de pantalla tras el **_select * from flights;_**\n",
    "\n",
    "\n",
    "[Captura imagen de carga del CSV a Hive](https://drive.google.com/open?id=1i3rJvAv5GMCjAn4H9ZXdL4aQKhVR5p2x)\n",
    "\n",
    "\n",
    "### 2.Consulta a HIVE exportándolo como fichero al HDFS de Hadoop\n",
    "\n",
    "* En este segundo paso, he realizado una consulta a la tabla **_flights_** y lo he incluido como un fichero de texto en HDFS en una carpeta previamente creada en HDFS.\n",
    "\n",
    "* Vamos a seleccionar los vuelos cercanos a MAD cuya velocidad sea mayor a 400 nudos.\n",
    "\n",
    "[Captura imagen del Select](https://drive.google.com/open?id=1KsWidbOhFk-tucRwJLgo9QCb1Vdk0YfY)\n",
    "\n",
    "* Ejecutamos:\n",
    "\n",
    "\n",
    "```\n",
    "./hive -S -e 'select callsign, origin, destination, altitude, latitude, longitude, speed from flights where speed > 400' | $HADOOP_PREFIX/bin/hdfs dfs -put flights400MAD.txt vuelos/flights400MAD.txt\n",
    "\n",
    "```\n",
    "\n",
    "[Captura imagen inserción fichero en HDFS desde consulta en HIVE](https://drive.google.com/open?id=1yvBIOJA_w0GMLZXZKzVYHfCi2q-dcBS7)\n",
    "\n",
    "* Visualizar el fichero desde HDFS\n",
    "\n",
    "[Consulta del fichero en HDFS](https://drive.google.com/open?id=1hbMYg993JbIapv-0yLWF_j9wEUayzmrJ)\n",
    "\n",
    "\n",
    "### 3. Desde un cliente Python a HIVE\n",
    "\n",
    "Usando el mismo ejemplo del Scrapper de vuelos, voy a utilizar un cliente Python para insertar directamente os vuelos en HIVE\n",
    "\n",
    "En el siguiente enlace están los registros de la tabla **_flights_** antes de actualizarla con nuevos vuelos\n",
    "\n",
    "[Vuelos insertados previamente](https://drive.google.com/open?id=1fWDMVPhnDuTN01pg4sbq3Nj7Zxpu4RpZ)\n",
    "\n",
    "A continuación se muestra el programa cliente de Python que inserta los nuevos vuelos recogidos desde el API"
   ]
  },
  {
   "cell_type": "code",
   "execution_count": 0,
   "metadata": {
    "colab": {
     "autoexec": {
      "startup": false,
      "wait_interval": 0
     }
    },
    "colab_type": "code",
    "id": "ny_jpEhT3zfc"
   },
   "outputs": [],
   "source": [
    "import requests\n",
    "import json\n",
    "import csv\n",
    "import uuid\n",
    "from pyhive import hive"
   ]
  },
  {
   "cell_type": "code",
   "execution_count": 0,
   "metadata": {
    "colab": {
     "autoexec": {
      "startup": false,
      "wait_interval": 0
     }
    },
    "colab_type": "code",
    "id": "B8k1QTOf31MD"
   },
   "outputs": [],
   "source": [
    "# Conexión a HIVE\n",
    "cursor = hive.connect('localhost').cursor()"
   ]
  },
  {
   "cell_type": "code",
   "execution_count": 0,
   "metadata": {
    "colab": {
     "autoexec": {
      "startup": false,
      "wait_interval": 0
     }
    },
    "colab_type": "code",
    "id": "sA_Tt8fY365u"
   },
   "outputs": [],
   "source": [
    "# comprobación de que todo va bien y puedo recuperar registros ya insertados desde el CSV el punto 1 de BONUS\n",
    "cursor.execute('select * from flights')\n",
    "print (cursor.fetchall())"
   ]
  },
  {
   "cell_type": "markdown",
   "metadata": {
    "colab_type": "text",
    "id": "e074oTXo5dSp"
   },
   "source": [
    "** Captura del resultado que devuelve  la consulta a HIVE desde Python**\n",
    "\n",
    "[Vuelos ya presentes en HIVE](https://drive.google.com/open?id=1fWDMVPhnDuTN01pg4sbq3Nj7Zxpu4RpZ)\n",
    "\n",
    "\n"
   ]
  },
  {
   "cell_type": "code",
   "execution_count": 0,
   "metadata": {
    "colab": {
     "autoexec": {
      "startup": false,
      "wait_interval": 0
     }
    },
    "colab_type": "code",
    "id": "i8OwES304dNW"
   },
   "outputs": [],
   "source": [
    "# consulta al API de vuelos \n",
    "response = requests.get(\"https://public-api.adsbexchange.com/VirtualRadar/AircraftList.json?lat=40.4167&lng=-3.70325&fDstL=0&fDstU=100\")\n",
    "print (response.status_code)\n",
    "print (response.content)"
   ]
  },
  {
   "cell_type": "code",
   "execution_count": 0,
   "metadata": {
    "colab": {
     "autoexec": {
      "startup": false,
      "wait_interval": 0
     }
    },
    "colab_type": "code",
    "id": "Qf7V4ZUZ43bY"
   },
   "outputs": [],
   "source": [
    "#lo convierto a objeto python\n",
    "flights = response.json()"
   ]
  },
  {
   "cell_type": "code",
   "execution_count": 0,
   "metadata": {
    "colab": {
     "autoexec": {
      "startup": false,
      "wait_interval": 0
     }
    },
    "colab_type": "code",
    "id": "gCVGUJGb443v"
   },
   "outputs": [],
   "source": [
    "\n",
    "# para cada vuelo recibido, compongo el INSERT y lo ejecuto para grabarlo en HIVE\n",
    "\n",
    "for flight in flights['acList']:\n",
    "    \n",
    "    insert = 'INSERT INTO flights VALUES('\n",
    "    \n",
    "    insert = insert + '\\'' + str(uuid.uuid4()) +  '\\'' + ','\n",
    "\n",
    "\n",
    "    if 'Call' in flight.keys():\n",
    "        insert = insert + '\\'' + str(flight['Call']) + '\\'' + ', '\n",
    "    else:\n",
    "        insert = insert + '\\'' + 'NO_CALL' + '\\'' + ','\n",
    "    if 'Op' in flight.keys():\n",
    "        insert = insert + '\\'' + str(flight[\"Op\"]) + '\\'' + ', '\n",
    "    else:    \n",
    "        insert = insert + '\\'' + 'NO_OP' + '\\'' + ', '\n",
    "    if 'From' in flight.keys():\n",
    "    #elimino las comas que hay dentro del campo ya que se confunden con el separador del insert\n",
    "        insert = insert + '\\'' + flight[\"From\"].replace(',', '') + '\\'' + ', ' \n",
    "    else:    \n",
    "        insert = insert + '\\'' + 'NO_FROM' + '\\'' + ', '\n",
    "    if 'To' in flight.keys():\n",
    "        insert = insert + '\\'' + flight[\"To\"].replace(',', '') + '\\'' + ', '\n",
    "    else:    \n",
    "        insert = insert + '\\'' + 'NO_TO' + '\\'' + ', '\n",
    "    if 'Mdl' in flight.keys():\n",
    "        insert = insert + '\\'' + flight[\"Mdl\"].replace(',', '') + '\\'' + ', '\n",
    "    else:\n",
    "        insert = insert + '\\'' + 'NO_AIRCRAFT' + '\\'' + ', '\n",
    "    if 'Alt' in flight.keys():    \n",
    "        insert = insert + str(flight[\"Alt\"]) + ', '\n",
    "    else:\n",
    "        insert = insert + 'NO_ALTITUDE' + ', '\n",
    "    if 'Lat' in flight.keys():        \n",
    "        insert = insert + str(flight[\"Lat\"]) + ', '\n",
    "    else:\n",
    "        insert = insert + 'NO_LATITUDE' + ', '\n",
    "    if 'Long' in flight.keys():            \n",
    "        insert = insert + str(flight[\"Long\"]) + ', '\n",
    "    else:    \n",
    "        insert = insert + 'NO_LONGITUDE' + ', '\n",
    "                               \n",
    "    insert = insert + str(flight[\"PosTime\"]) + ', '\n",
    "        \n",
    "    if 'Spd' in flight.keys():                                    \n",
    "        insert = insert + str(flight[\"Spd\"]) + ', '\n",
    "    else:\n",
    "        insert = insert + 'NO_SPEED' + ', '\n",
    "    if 'Vsi' in flight.keys():       \n",
    "        insert = insert + str(flight[\"Vsi\"])\n",
    "    else:    \n",
    "        insert = insert + 'NO_VSI'\n",
    "    \n",
    "    #fin de la composición del INSERT\n",
    "    insert = insert + ')'\n",
    "    \n",
    "    print (insert)\n",
    "    \n",
    "    #ejecuto la consulta para insertar el registro\n",
    "    cursor.execute(insert)"
   ]
  },
  {
   "cell_type": "markdown",
   "metadata": {
    "colab_type": "text",
    "id": "U2YmcHxt7JTk"
   },
   "source": [
    "### Ejemplo de alguno de los INSERT generados desde el cliente Python e insertados en HIVE\n",
    "\n",
    "\n",
    "\n",
    "```\n",
    "INSERT INTO flights VALUES('23ee8506-1a70-4fc2-8d01-0259ff716d72','KAL914', 'Korean Air', 'LEMD Madrid Barajas Spain', 'RKSI Incheon Seoul South Korea', 'Boeing 777 3B5ER', 7225, 40.678556, -3.443215, 1531248433115, 283.0, 2624)\n",
    "\n",
    "INSERT INTO flights VALUES('c30078f8-4800-40dc-babb-d3386657145c','KLM1706', 'KLM Royal Dutch Airlines', 'LEMD Madrid Barajas Spain', 'EHAM Amsterdam Airport Schiphol Netherlands', 'Boeing 737NG 9K2/W', 12675, 40.778829, -3.331042, 1531248433115, 344.8, 1088)\n",
    "\n",
    "INSERT INTO flights VALUES('8b5791a2-1f42-4c29-9a1c-a5c46cd4c19b','RYR27ZU', 'Ryanair', 'NO_FROM', 'NO_TO', 'Boeing 737NG 8AS/W', 15675, 40.634079, -3.267883, 1531248433115, 371.4, 1024)\n",
    "\n",
    "INSERT INTO flights VALUES('2f8c9055-0a22-4979-a658-0351ddad4830','AEA7306', 'Air Europa', 'LEMD Madrid Barajas Spain', 'LEVX Vigo Spain', 'Embraer EMB-195 LR', 22350, 41.07532, -4.37181, 1531248433115, 393.3, 1152)\n",
    "\n",
    "```\n",
    "\n",
    "### Consulta en HIVE para mostrar todos los registros insertados\n",
    "\n",
    "[Listado de los vuelos insertados tanto mediante el CSV como desde el cliente Python](https://drive.google.com/open?id=1KQ6myyTrZcE79tMPOOwvpU83cMpmXZET)\n",
    "\n",
    "\n",
    "\n"
   ]
  }
 ],
 "metadata": {
  "colab": {
   "collapsed_sections": [],
   "default_view": {},
   "name": "PRACTICA_BIG_DATA_ARCHITECTURE.ipynb",
   "provenance": [],
   "version": "0.3.2",
   "views": {}
  },
  "kernelspec": {
   "display_name": "Python 3",
   "language": "python",
   "name": "python3"
  },
  "language_info": {
   "codemirror_mode": {
    "name": "ipython",
    "version": 3
   },
   "file_extension": ".py",
   "mimetype": "text/x-python",
   "name": "python",
   "nbconvert_exporter": "python",
   "pygments_lexer": "ipython3",
   "version": "3.7.0"
  }
 },
 "nbformat": 4,
 "nbformat_minor": 1
}
